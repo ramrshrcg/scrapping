{
 "cells": [
  {
   "cell_type": "code",
   "execution_count": null,
   "id": "ab19b45d",
   "metadata": {},
   "outputs": [],
   "source": [
    "import requests\n",
    "from bs4 import BeautifulSoup\n",
    "from datetime import date\n",
    "import pandas as pd\n",
    "import re\n",
    "import os\n"
   ]
  },
  {
   "cell_type": "code",
   "execution_count": null,
   "id": "a496c176",
   "metadata": {},
   "outputs": [],
   "source": [
    "# url ='https://www.dainiknepal.com/section/latest-news'\n",
    "\n",
    "# url='https://www.dainiknepal.com/section/views'\n",
    "# url='https://www.dainiknepal.com/section/views/page/2'\n",
    "# url='https://www.dainiknepal.com/section/views/page/4'\n",
    "# url='https://www.dainiknepal.com/section/views/page/5'\n",
    "\n",
    "\n",
    "# url='https://www.dainiknepal.com/section/kala'\n",
    "# url='https://www.dainiknepal.com/section/kala/page/2'\n",
    "# url='https://www.dainiknepal.com/section/kala/page/3'\n",
    "# url='https://www.dainiknepal.com/section/kala/page/4'\n",
    "# url='https://www.dainiknepal.com/section/kala/page/5'\n",
    " \n",
    "\n",
    "\n",
    "\n",
    "# url='https://www.dainiknepal.com/section/diaspora'\n",
    "\n",
    "\n",
    "\n",
    "# \n",
    "# url='https://www.dainiknepal.com/section/market'\n",
    "# url='https://www.dainiknepal.com/section/sports'\n",
    "# url='https://www.dainiknepal.com/section/rochak'\n",
    "# url='https://www.dainiknepal.com/section/health'\n"
   ]
  },
  {
   "cell_type": "code",
   "execution_count": null,
   "id": "5f2a8914",
   "metadata": {},
   "outputs": [],
   "source": [
    "response= requests.get(url)\n",
    "soup = BeautifulSoup(response.content, 'html')\n",
    "print(soup.prettify())"
   ]
  },
  {
   "cell_type": "code",
   "execution_count": null,
   "id": "1b5abc6d",
   "metadata": {},
   "outputs": [],
   "source": [
    "news_loop= soup.find_all('div',class_='news_loop') \n",
    "\n",
    "\n",
    "print((news_loop))"
   ]
  },
  {
   "cell_type": "code",
   "execution_count": null,
   "id": "043c7aed",
   "metadata": {},
   "outputs": [],
   "source": [
    "print(len(news_loop))\n"
   ]
  },
  {
   "cell_type": "code",
   "execution_count": null,
   "id": "818ffeb2",
   "metadata": {},
   "outputs": [],
   "source": [
    "news = {\n",
    "    \"headlines\": [],\n",
    "    \"link\": [],\n",
    "    \"body\": [],\n",
    "    \"description\": []\n",
    "}\n"
   ]
  },
  {
   "cell_type": "code",
   "execution_count": null,
   "id": "555d1927",
   "metadata": {},
   "outputs": [],
   "source": [
    "links = []\n",
    "for news in news_loop:\n",
    "    # title=news.find('div')\n",
    "    link= news.find('a')['href']\n",
    "    links.append(link)\n",
    "    \n",
    "    \n",
    "    \n",
    "    # print(links)\n",
    "\n",
    "# links.pop(-2)\n",
    "print(links)\n",
    "\n",
    "\n"
   ]
  },
  {
   "cell_type": "code",
   "execution_count": null,
   "id": "4a35272f",
   "metadata": {},
   "outputs": [],
   "source": [
    "print(len(links))"
   ]
  },
  {
   "cell_type": "code",
   "execution_count": null,
   "id": "f7c69bf6",
   "metadata": {},
   "outputs": [],
   "source": [
    "data = {\n",
    "    'शीर्षक': [],\n",
    "    'विवरण': [],\n",
    "    # 'description': [],\n",
    "}\n",
    "df = pd.DataFrame(data)\n",
    "df\n"
   ]
  },
  {
   "cell_type": "code",
   "execution_count": null,
   "id": "8e0e5fe2",
   "metadata": {},
   "outputs": [],
   "source": [
    "\n",
    "for i in links:\n",
    "    full_paragraph=''   \n",
    "    response = requests.get(i)\n",
    "    soup = BeautifulSoup(response.content, 'html.parser')\n",
    " \n",
    " \n",
    " \n",
    "    title= soup.find('h1',class_=\"inside_head\").text.strip()\n",
    "    # title= soup.find('h1')\n",
    "    \n",
    "    \n",
    "    print(title)\n",
    "    bodyParagraph = soup.find_all('p')\n",
    "    for paragraph in bodyParagraph:\n",
    "        paragraph = paragraph.text.strip()\n",
    "        \n",
    "        words = paragraph.split()\n",
    "        if any(re.search(r'[a-zA-Z]', word) for word in words):\n",
    "            break\n",
    "        if paragraph:\n",
    "            if not paragraph.endswith(\"।\"):\n",
    "                paragraph += \"।\"\n",
    "            full_paragraph += paragraph + \" \"\n",
    "     \n",
    "        \n",
    "      \n",
    "    print(full_paragraph)\n",
    "    print('\\n\\n')\n",
    "    \n",
    "    \n",
    "\n",
    "    \n",
    "    df.loc[len(df)] = [title, full_paragraph]\n",
    "    \n",
    "\n"
   ]
  },
  {
   "cell_type": "code",
   "execution_count": null,
   "id": "4e76bea1",
   "metadata": {},
   "outputs": [],
   "source": [
    "df"
   ]
  },
  {
   "cell_type": "code",
   "execution_count": null,
   "id": "39c6e742",
   "metadata": {},
   "outputs": [],
   "source": [
    "today = date.today().strftime(\"%Y-%m-%d\") \n",
    "\n",
    "foldername='/var/home/ramrshrcg/Desktop/Python/scrapping/csv'\n",
    "\n",
    "\n",
    "file_path = f\"{foldername}/{today}_dainikNepal_news.csv\"\n",
    "\n",
    "\n",
    "if os.path.exists(file_path):\n",
    "    df.to_csv(file_path, mode='a', index=False, header=False)\n",
    "else:\n",
    "    df.to_csv(file_path, index=False)\n"
   ]
  },
  {
   "cell_type": "code",
   "execution_count": null,
   "id": "c0093606",
   "metadata": {},
   "outputs": [],
   "source": []
  }
 ],
 "metadata": {
  "kernelspec": {
   "display_name": ".venv",
   "language": "python",
   "name": "python3"
  },
  "language_info": {
   "codemirror_mode": {
    "name": "ipython",
    "version": 3
   },
   "file_extension": ".py",
   "mimetype": "text/x-python",
   "name": "python",
   "nbconvert_exporter": "python",
   "pygments_lexer": "ipython3",
   "version": "3.13.3"
  }
 },
 "nbformat": 4,
 "nbformat_minor": 5
}
