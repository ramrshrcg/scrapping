{
 "cells": [
  {
   "cell_type": "code",
   "execution_count": 1,
   "id": "d0d08e68",
   "metadata": {},
   "outputs": [
    {
     "name": "stdout",
     "output_type": "stream",
     "text": [
      "All files merged into /var/home/ramrshrcg/Downloads/nepali datas folder/Nepali Materials/परराष्ट्र नीति २०७७ _batch_ocr/extracted_text_परराष्ट्र नीति २०७७ _chunk_001.txt\n"
     ]
    }
   ],
   "source": [
    "import os\n",
    "\n",
    "def merge_files(folder_path, output_file=None):\n",
    "    # Check if folder exists\n",
    "    if not os.path.exists(folder_path):\n",
    "        print(f\"Error: Folder '{folder_path}' does not exist\")\n",
    "        return\n",
    "    \n",
    "    # If no output file specified, create one based on folder name\n",
    "    if output_file is None:\n",
    "        folder_name = os.path.basename(folder_path.rstrip('/'))\n",
    "        output_file = os.path.join(os.path.dirname(folder_path), f\"{folder_name}.txt\")\n",
    "    \n",
    "    # Create/open output file\n",
    "    with open(output_file, 'w', encoding='utf-8') as outfile:\n",
    "        # Iterate through all files in the folder\n",
    "        for filename in os.listdir(folder_path):\n",
    "            file_path = os.path.join(folder_path, filename)\n",
    "            \n",
    "            # Check if it's a file (not a directory)\n",
    "            if os.path.isfile(file_path):\n",
    "                try:\n",
    "                    with open(file_path, 'r', encoding='utf-8') as infile:\n",
    "                       \n",
    "                        # Write file contents\n",
    "                        outfile.write(infile.read())\n",
    "                except Exception as e:\n",
    "                    print(f\"Error reading {filename}: {str(e)}\")\n",
    "    \n",
    "    print(f\"All files merged into {output_file}\")\n",
    "    return output_file\n",
    "\n",
    "# Example usage\n",
    "if __name__ == \"__main__\":\n",
    "    # You can specify any folder path here\n",
    "    \n",
    "    folder_path ='/var/home/ramrshrcg/Downloads/nepali datas folder/Nepali Materials/परराष्ट्र नीति २०७७ _batch_ocr/extracted_text_परराष्ट्र नीति २०७७ _chunk_001'\n",
    "    \n",
    "    \n",
    "    \n",
    "    \n",
    "    # Replace with your folder path\n",
    "    \n",
    "    # This will create a file named after the folder (e.g., \"extracted_text_नेपाली: कक्षा ५ _chunk_001.txt\")\n",
    "    merge_files(folder_path)"
   ]
  },
  {
   "cell_type": "code",
   "execution_count": null,
   "id": "5ac5361d",
   "metadata": {},
   "outputs": [],
   "source": []
  },
  {
   "cell_type": "code",
   "execution_count": null,
   "id": "3398c29c",
   "metadata": {},
   "outputs": [],
   "source": []
  }
 ],
 "metadata": {
  "kernelspec": {
   "display_name": ".venv",
   "language": "python",
   "name": "python3"
  },
  "language_info": {
   "codemirror_mode": {
    "name": "ipython",
    "version": 3
   },
   "file_extension": ".py",
   "mimetype": "text/x-python",
   "name": "python",
   "nbconvert_exporter": "python",
   "pygments_lexer": "ipython3",
   "version": "3.13.5"
  }
 },
 "nbformat": 4,
 "nbformat_minor": 5
}
