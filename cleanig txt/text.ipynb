{
 "cells": [
  {
   "cell_type": "code",
   "execution_count": 1,
   "id": "3a3e9e8a",
   "metadata": {},
   "outputs": [],
   "source": [
    "import pandas as pd"
   ]
  },
  {
   "cell_type": "code",
   "execution_count": 2,
   "id": "304fec6d",
   "metadata": {},
   "outputs": [],
   "source": [
    "path = '/var/home/ramrshrcg/Downloads/nepali datas folder/compiled.txt'\n"
   ]
  },
  {
   "cell_type": "code",
   "execution_count": null,
   "id": "8954babf",
   "metadata": {},
   "outputs": [],
   "source": [
    "# # Open the file in read mode\n",
    "# try:\n",
    "#     with open(path, \"r\") as file:\n",
    "#         content = file.read()  # Read the entire content of the file\n",
    "#         print(content)\n",
    "# except FileNotFoundError:\n",
    "#     print(\"Error: The file 'my_text_file.txt' was not found.\")"
   ]
  },
  {
   "cell_type": "code",
   "execution_count": null,
   "id": "fb995618",
   "metadata": {},
   "outputs": [],
   "source": [
    "def smart_split(input_file, chunk_size_mb=100):\n",
    "    chunk_size_bytes = chunk_size_mb * 1024 * 1024\n",
    "    \n",
    "    with open(input_file, 'r', encoding='utf-8') as file:\n",
    "        file_num = 1\n",
    "        current_size = 0\n",
    "        buffer = []\n",
    "        \n",
    "        for line in file:\n",
    "            line_bytes = len(line.encode('utf-8'))\n",
    "            buffer.append(line)\n",
    "            current_size += line_bytes\n",
    "            \n",
    "            # Check if we should write chunk\n",
    "            if current_size >= chunk_size_bytes:\n",
    "                # Write buffer to file\n",
    "                output_filename = f\"section_{file_num:03d}.txt\"\n",
    "                with open(output_filename, 'w', encoding='utf-8') as output_file:\n",
    "                    output_file.writelines(buffer)\n",
    "                \n",
    "                print(f\"Created {output_filename} ({len(buffer)} lines)\")\n",
    "                file_num += 1\n",
    "                buffer = []\n",
    "                current_size = 0\n",
    "        \n",
    "        # Write remaining buffer\n",
    "        if buffer:\n",
    "            output_filename = f\"section_{file_num:03d}.txt\"\n",
    "            with open(output_filename, 'w', encoding='utf-8') as output_file:\n",
    "                output_file.writelines(buffer)\n",
    "            print(f\"Created {output_filename} ({len(buffer)} lines)\")\n",
    "\n",
    "smart_split(path, chunk_size_mb=120)"
   ]
  }
 ],
 "metadata": {
  "kernelspec": {
   "display_name": ".venv",
   "language": "python",
   "name": "python3"
  },
  "language_info": {
   "codemirror_mode": {
    "name": "ipython",
    "version": 3
   },
   "file_extension": ".py",
   "mimetype": "text/x-python",
   "name": "python",
   "nbconvert_exporter": "python",
   "pygments_lexer": "ipython3",
   "version": "3.13.3"
  }
 },
 "nbformat": 4,
 "nbformat_minor": 5
}
