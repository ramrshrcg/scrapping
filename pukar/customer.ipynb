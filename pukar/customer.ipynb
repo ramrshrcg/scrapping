{
 "cells": [
  {
   "cell_type": "code",
   "execution_count": 8,
   "id": "7914e07e",
   "metadata": {},
   "outputs": [],
   "source": [
    "import pandas as pd"
   ]
  },
  {
   "cell_type": "code",
   "execution_count": 9,
   "id": "589b8d95",
   "metadata": {},
   "outputs": [
    {
     "name": "stdout",
     "output_type": "stream",
     "text": [
      "   Customer_ID     Name  Age                Email           City\n",
      "0            1    Alice   28    alice@example.com       New York\n",
      "1            2      Bob   35      bob@example.com    Los Angeles\n",
      "2            3  Charlie   22  charlie@example.com  San Francisco\n",
      "3            4    David   40    david@example.com        Chicago\n",
      "4            5      Eve   29      eve@example.com        Houston\n",
      "5            6    Frank   32    frank@example.com          Miami\n",
      "6            7    Grace   27    grace@example.com        Seattle\n",
      "7            8   Hannah   38   hannah@example.com         Boston\n",
      "8            9      Ian   25                  NaN         Denver\n",
      "9           10     Jack   30     jack@example.com            NaN\n"
     ]
    }
   ],
   "source": [
    "# import pandas as pd\n",
    "\n",
    "customer_df = pd.read_csv('customers.csv')\n",
    "print(customer_df)"
   ]
  },
  {
   "cell_type": "code",
   "execution_count": null,
   "id": "4a02ae93",
   "metadata": {},
   "outputs": [],
   "source": []
  }
 ],
 "metadata": {
  "kernelspec": {
   "display_name": ".venv",
   "language": "python",
   "name": "python3"
  },
  "language_info": {
   "codemirror_mode": {
    "name": "ipython",
    "version": 3
   },
   "file_extension": ".py",
   "mimetype": "text/x-python",
   "name": "python",
   "nbconvert_exporter": "python",
   "pygments_lexer": "ipython3",
   "version": "3.13.3"
  }
 },
 "nbformat": 4,
 "nbformat_minor": 5
}
