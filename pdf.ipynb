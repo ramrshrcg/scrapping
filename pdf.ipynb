{
 "cells": [
  {
   "cell_type": "code",
   "execution_count": 1,
   "id": "9d0bbf09",
   "metadata": {},
   "outputs": [],
   "source": [
    "import pytesseract\n",
    "from PIL import Image, ImageDraw, ImageFont\n",
    "from PyPDF2 import PdfReader, PdfWriter\n",
    "import os\n",
    "from pdf2image import convert_from_path, convert_from_bytes"
   ]
  },
  {
   "cell_type": "code",
   "execution_count": 47,
   "id": "688d97f9",
   "metadata": {},
   "outputs": [],
   "source": [
    "\n",
    "\n",
    "def makePdfToImage(pdf_path,):\n",
    "    \"\"\"\n",
    "    Convert each page of a PDF to an image and save it in the specified directory.\n",
    "    \n",
    "    :param pdf_path: Path to the input PDF file.\n",
    "    :param output_dir: Directory where the images will be saved.\n",
    "    \"\"\"\n",
    "    \n",
    "    images = convert_from_path(pdf_path, dpi=300, fmt='png', thread_count=4)\n",
    "    \n",
    "    \n",
    "    # reader = PdfReader(pdf_path)\n",
    "    # image=[]\n",
    "    # for page_num in range(len(reader.pages)):\n",
    "    #     page = reader.pages[page_num]\n",
    "    #     text = page.extract_text()\n",
    "        \n",
    "    #     # Create an image from the text\n",
    "    #     img = Image.new('RGB', (800, 1000), color='white')\n",
    "    #     d = ImageDraw.Draw(img)\n",
    "    #     d.text((10, 10), text, fill=(0, 0, 0))\n",
    "        \n",
    "    #     image.append(img)\n",
    "   \n",
    "    return images\n"
   ]
  },
  {
   "cell_type": "code",
   "execution_count": 48,
   "id": "62ea1528",
   "metadata": {},
   "outputs": [],
   "source": [
    "pdf_path='/var/home/ramrshrcg/Downloads/nepali datas folder/Nepali Materials/सामाजिक अध्ययन तथा मानव मूल्य शिक्षा: कक्षा ७ .pdf'\n",
    "output=pdf_path.split('/')[-1].replace('.pdf', '.txt')\n",
    "Images=makePdfToImage(pdf_path,)\n"
   ]
  },
  {
   "cell_type": "code",
   "execution_count": null,
   "id": "ab12cf8a",
   "metadata": {},
   "outputs": [],
   "source": [
    "\n",
    "\n",
    "from numpy import size\n",
    "import pdf2image\n",
    "\n",
    "def pdf_to_image(pdf_path):\n",
    "    \n",
    "    images = pdf2image.convert_from_path(pdf_path, dpi=300, fmt='png', thread_count=4)\n",
    "    return images\n",
    "\n",
    "py2pdf_images = pdf_to_image(pdf_path,)\n",
    "   "
   ]
  },
  {
   "cell_type": "code",
   "execution_count": null,
   "id": "8f1fcad7",
   "metadata": {},
   "outputs": [],
   "source": [
    "def save_as_txt(text, output_file):\n",
    "    \"\"\"\n",
    "    Save the extracted text to a text file.\n",
    "    \n",
    "    :param text: The text to save.\n",
    "    :param output_file: The path to the output text file.\n",
    "    \"\"\"\n",
    "    \n",
    "    base='Book/'\n",
    "    output_file = os.path.join(base, output_file)\n",
    "    if not os.path.exists((base)):\n",
    "        os.makedirs((base))\n",
    "        \n",
    "    with open(output_file, 'a', encoding='utf-8') as f:\n",
    "        f.write(text)\n",
    "    print(f\"Text saved to {output_file}\")"
   ]
  },
  {
   "cell_type": "code",
   "execution_count": null,
   "id": "c3f1adc7",
   "metadata": {},
   "outputs": [],
   "source": [
    "for i in range(len(Images)):\n",
    "    text=(pytesseract.image_to_string((Images[i]),lang='nep'))  # Extract text from the first image\n",
    "    save_as_txt(text,output )  # Save the extracted text to a file"
   ]
  },
  {
   "cell_type": "code",
   "execution_count": null,
   "id": "71c172ae",
   "metadata": {},
   "outputs": [],
   "source": [
    "# text=(pytesseract.image_to_string(Images[0],lang='nep'))  # Extract text from the first image\n",
    "# print(text)  # Print the extracted text"
   ]
  },
  {
   "cell_type": "code",
   "execution_count": null,
   "id": "5816af2c",
   "metadata": {},
   "outputs": [],
   "source": [
    "print(Images[0])\n",
    "Images[0].save('image.png', 'PNG')  # Display the first image\n",
    "# text=(pytesseract.image_to_string(Image.open(Images[0]),lang='nep'))  # Extract text from the first image\n"
   ]
  },
  {
   "cell_type": "code",
   "execution_count": null,
   "id": "a254ba2b",
   "metadata": {},
   "outputs": [],
   "source": [
    "# for i in range(len(py2pdf_images)):\n",
    "#     text=(pytesseract.image_to_string(Images[i]))  # Extract text from the first image\n",
    "#     save_as_txt(text,'p2p'+output )  # Save the extracted text to a file"
   ]
  },
  {
   "cell_type": "code",
   "execution_count": null,
   "id": "9ee5c6c0",
   "metadata": {},
   "outputs": [],
   "source": [
    "for i in range(len(Images)):\n",
    "    Images[i].save(f'tempbook/image{i}.png', 'PNG')"
   ]
  },
  {
   "cell_type": "code",
   "execution_count": null,
   "id": "8164996a",
   "metadata": {},
   "outputs": [],
   "source": [
    "#convert into b/w image for image 2\n",
    "# for i in range(len(Images)):\n",
    "\n",
    "Images[2] = Images[i].convert('L')  # Convert to grayscale\n",
    "Images[2] = Images[i].point(lambda x: 0 if x < 128 else 255, '1')  # Convert to black and white\n",
    "Images[2].save(f'tempbook/image_bw{i}.png', 'PNG')  # Save the black and white image\n",
    "text=(pytesseract.image_to_string(Images[i],lang='nep'))  # Extract text from the bl\n"
   ]
  },
  {
   "cell_type": "code",
   "execution_count": 35,
   "id": "d0957f3b",
   "metadata": {},
   "outputs": [],
   "source": [
    "import re\n",
    "\n",
    "\n",
    "def normalize(text):\n",
    "    text = re.sub(r'\\s+', ' ', text)\n",
    "    text = text.replace(\"(\", \"\").replace(\")\", \"\").replace(\"ट\", \"\")\n",
    "    return text.strip()"
   ]
  },
  {
   "cell_type": "code",
   "execution_count": 53,
   "id": "802db943",
   "metadata": {},
   "outputs": [
    {
     "ename": "AttributeError",
     "evalue": "'str' object has no attribute 'convert'",
     "output_type": "error",
     "traceback": [
      "\u001b[31m---------------------------------------------------------------------------\u001b[39m",
      "\u001b[31mAttributeError\u001b[39m                            Traceback (most recent call last)",
      "\u001b[36mCell\u001b[39m\u001b[36m \u001b[39m\u001b[32mIn[53]\u001b[39m\u001b[32m, line 3\u001b[39m\n\u001b[32m      1\u001b[39m test= \u001b[33m'\u001b[39m\u001b[33mtempbook/image1.png\u001b[39m\u001b[33m'\u001b[39m \u001b[38;5;66;03m# Use the second image for testing\u001b[39;00m\n\u001b[32m      2\u001b[39m Image.open(test)\n\u001b[32m----> \u001b[39m\u001b[32m3\u001b[39m test = \u001b[43mtest\u001b[49m\u001b[43m.\u001b[49m\u001b[43mconvert\u001b[49m(\u001b[33m'\u001b[39m\u001b[33mL\u001b[39m\u001b[33m'\u001b[39m)  \u001b[38;5;66;03m# Convert to grayscaleho\u001b[39;00m\n\u001b[32m      4\u001b[39m test = test.point(\u001b[38;5;28;01mlambda\u001b[39;00m x: \u001b[32m0\u001b[39m \u001b[38;5;28;01mif\u001b[39;00m x < \u001b[32m128\u001b[39m \u001b[38;5;28;01melse\u001b[39;00m \u001b[32m255\u001b[39m, \u001b[33m'\u001b[39m\u001b[33m1\u001b[39m\u001b[33m'\u001b[39m)  \u001b[38;5;66;03m# Convert to black and white\u001b[39;00m\n\u001b[32m      7\u001b[39m extracted_text=pytesseract.image_to_string(test, lang=\u001b[33m'\u001b[39m\u001b[33meng\u001b[39m\u001b[33m'\u001b[39m\u001b[38;5;129;01mand\u001b[39;00m \u001b[33m'\u001b[39m\u001b[33mnep\u001b[39m\u001b[33m'\u001b[39m)\n",
      "\u001b[31mAttributeError\u001b[39m: 'str' object has no attribute 'convert'"
     ]
    }
   ],
   "source": [
    "test= 'tempbook/image1.png' # Use the second image for testing\n",
    "Image.open(test)\n",
    "test = test.convert('L')  # Convert to grayscaleho\n",
    "test = test.point(lambda x: 0 if x < 128 else 255, '1')  # Convert to black and white\n",
    "\n",
    "\n",
    "extracted_text=pytesseract.image_to_string(test, lang='eng'and 'nep')\n",
    "print(extracted_text)  # Extract text from the black and white image\n",
    "\n",
    "\n",
    "\n"
   ]
  },
  {
   "cell_type": "code",
   "execution_count": 26,
   "id": "425f86a4",
   "metadata": {},
   "outputs": [],
   "source": [
    "textcomplete = ''\n",
    "for i in range(len(extracted_text)):\n",
    "    textcomplete += extracted_text[i] + ' '"
   ]
  },
  {
   "cell_type": "code",
   "execution_count": null,
   "id": "95f5bb6d",
   "metadata": {},
   "outputs": [],
   "source": []
  },
  {
   "cell_type": "code",
   "execution_count": 37,
   "id": "61e036a2",
   "metadata": {},
   "outputs": [
    {
     "name": "stdout",
     "output_type": "stream",
     "text": [
      "प्रकाशक नेपाल सरकार शिक्षा, विज्ञान तथा प्रविधि मन्त्रालय पाठ्यक्रम विकास केन्द्र सानोठिमी, भक्तपुर सर्वाधिकार पाठयक्रम विकास केन्द्र प्रथम संस्करण : वि.सं. २०७९ पाठ्यपुस्तकसमस्बन्धी पाठकहरूका कुनै पति प्रकारका सझावहरू भएमा पाठ्यक्रम विकास केन्द्र यमत्वय तथा प्रकाशत शाखामा पठाइदितुहुन अवुरोध छ । पाठकहरूबा आउने सझावहरूलाई केद्र हार्दिक स्वागत गर्दछ ।\n"
     ]
    }
   ],
   "source": [
    "textcomplete=normalize(textcomplete)\n",
    "print(textcomplete)  # Print the extracted text\n"
   ]
  },
  {
   "cell_type": "code",
   "execution_count": 43,
   "id": "90026732",
   "metadata": {},
   "outputs": [],
   "source": [
    "\n",
    "realtext='प्रकाशक नेपाल सरकार शिक्षा, विज्ञान तथा प्रविधि मन्त्रालय पाठ्यक्रम विकास केन्द्र सानोठिमी, भक्तपुर सर्वाधिकार पाठ्यक्रम विकास केन्द्र यस पाठ्यपुस्तकसम्बन्धी सम्पूर्ण अधिकार पाठ्यक्रम विकास केन्द्र सानोठिमी, भक्तपुरमा निहित रहेको छ प्रथम संस्करण : वि.सं. २०७९ पाठ्यपुस्तकसम्बन्धी पाठकहरूका कुनै पनि प्रकारका सुझावहरू भएमा पाठ्यक्रम विकास केन्द्र, समन्वय तथा प्रकाशन शाखामा पठाइदिनुहुन अनुरोध छ । पाठकहरूबाट आउने सुझावहरूलाई केन्द्र हार्दिक स्वागत गर्दछ ।'\n",
    "\n",
    "clean_real = normalize(realtext)\n",
    "\n",
    "\n"
   ]
  },
  {
   "cell_type": "code",
   "execution_count": 44,
   "id": "86ebc391",
   "metadata": {},
   "outputs": [
    {
     "name": "stdout",
     "output_type": "stream",
     "text": [
      "Character Error Rate (CER): 24.28%\n"
     ]
    }
   ],
   "source": [
    "\n",
    "\n",
    "# Levenshtein distance\n",
    "# distance = %pip install python-Levenshtein\n",
    "import Levenshtein\n",
    "\n",
    "# Levenshtein distance\n",
    "distance = Levenshtein.distance(textcomplete, clean_real)\n",
    "length_real = len(clean_real)\n",
    "cer = distance / length_real\n",
    "print(f\"Character Error Rate (CER): {cer:.2%}\")"
   ]
  },
  {
   "cell_type": "code",
   "execution_count": null,
   "id": "5bae3085",
   "metadata": {},
   "outputs": [],
   "source": []
  }
 ],
 "metadata": {
  "kernelspec": {
   "display_name": ".venv",
   "language": "python",
   "name": "python3"
  },
  "language_info": {
   "codemirror_mode": {
    "name": "ipython",
    "version": 3
   },
   "file_extension": ".py",
   "mimetype": "text/x-python",
   "name": "python",
   "nbconvert_exporter": "python",
   "pygments_lexer": "ipython3",
   "version": "3.13.5"
  }
 },
 "nbformat": 4,
 "nbformat_minor": 5
}
