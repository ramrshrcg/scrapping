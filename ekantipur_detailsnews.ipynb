{
 "cells": [
  {
   "cell_type": "code",
   "execution_count": null,
   "id": "bca4f78c",
   "metadata": {},
   "outputs": [],
   "source": [
    "import requests\n",
    "from bs4 import BeautifulSoup\n",
    "from datetime import date\n",
    "import pandas as pd\n",
    "import re\n",
    "import os\n"
   ]
  },
  {
   "cell_type": "code",
   "execution_count": null,
   "id": "114b615e",
   "metadata": {},
   "outputs": [],
   "source": [
    "#alter link\n",
    "# url=\"https://ekantipur.com/photo_feature\""
   ]
  },
  {
   "cell_type": "code",
   "execution_count": null,
   "id": "4ac61bb2",
   "metadata": {},
   "outputs": [],
   "source": [
    "# url = 'https://ekantipur.com/news'\n",
    "# url='https://ekantipur.com/business'\n",
    "# url='https://ekantipur.com/opinion'\n",
    "# url='https://ekantipur.com/sports'\n",
    "# url = 'https://ekantipur.com/national'\n",
    "# url='https://ekantipur.com/entertainment'\n",
    "# url='https://ekantipur.com/feature'\n",
    "# url='https://ekantipur.com/world'\n",
    "# url='https://ekantipur.com/blog'\n",
    "# url='https://ekantipur.com/koseli'\n",
    "# url='https://ekantipur.com/diaspora'\n",
    "url='https://ekantipur.com/Education'\n",
    "\n",
    "\n",
    "\n",
    "response= requests.get(url)\n",
    "soup = BeautifulSoup(response.content, 'html.parser')\n",
    "print(soup.prettify())"
   ]
  },
  {
   "cell_type": "code",
   "execution_count": null,
   "id": "1a818e52",
   "metadata": {},
   "outputs": [],
   "source": [
    "# data= soup.get_text()\n",
    "# #remove english text\n",
    "# cleaned = re.sub(r'[a-zA-Z0-9.,:/?\\'\"@#$%^&*()_+=\\[\\]{}<>|\\\\~`!-]', '', data)\n",
    "\n",
    "# # Optional: Also remove multiple spaces\n",
    "# cleaned = re.sub(r'\\s+', ' ', cleaned)\n",
    "\n",
    "# print(cleaned.strip())\n",
    "\n"
   ]
  },
  {
   "cell_type": "code",
   "execution_count": null,
   "id": "d9ba2138",
   "metadata": {},
   "outputs": [],
   "source": [
    "article = soup.find_all('article', class_='normal')\n",
    "news = {\n",
    "    \"headlines\": [],\n",
    "    \"link\": [],\n",
    "    \"body\": [],\n",
    "    \"description\": []\n",
    "}"
   ]
  },
  {
   "cell_type": "code",
   "execution_count": null,
   "id": "078159d7",
   "metadata": {},
   "outputs": [],
   "source": [
    "print(len(article))"
   ]
  },
  {
   "cell_type": "code",
   "execution_count": null,
   "id": "7693d8c7",
   "metadata": {},
   "outputs": [],
   "source": [
    "\n",
    "for i in article:\n",
    "    # headlines= i.find('a').get_text(strip=True)\n",
    "    link=i.find('a')['href']\n",
    "    # body = i.find('p').get_text(strip=True)\n",
    "    \n",
    "    link = 'https://ekantipur.com' + link\n",
    "    \n",
    "      \n",
    "\n",
    "    # news['headlines'].append(headlines)\n",
    "    news['link'].append(link)\n",
    "    # news['body'].append(body)\n",
    "    \n",
    "print(news['link'])\n",
    "    "
   ]
  },
  {
   "cell_type": "code",
   "execution_count": null,
   "id": "53dd6844",
   "metadata": {},
   "outputs": [],
   "source": [
    "tree=[]\n",
    "for i in news['link']:\n",
    "    response = requests.get(i)\n",
    "    soup = BeautifulSoup(response.content, 'html.parser')\n",
    "    tree.append(soup)\n",
    "    print(soup.prettify())\n",
    "    \n",
    "    # description = soup.find('div', class_='article__content').get_text(strip=True)\n",
    "    # news['description'].append(description)"
   ]
  },
  {
   "cell_type": "code",
   "execution_count": null,
   "id": "2fa73c83",
   "metadata": {},
   "outputs": [],
   "source": [
    "data = {\n",
    "    'शीर्षक': [],\n",
    "    'विवरण': [],\n",
    "    # 'description': [],\n",
    "}\n",
    "df = pd.DataFrame(data)\n",
    "df\n"
   ]
  },
  {
   "cell_type": "code",
   "execution_count": null,
   "id": "a30df5cd",
   "metadata": {},
   "outputs": [],
   "source": [
    "for i in tree:\n",
    "    headlines= i.find('h1').get_text(strip=True)\n",
    "    description = i.find('div', class_='description current-news-block')\n",
    "    \n",
    "    description = description.find_all('p')\n",
    "    cleaned_description = ''.join(p.get_text(strip=True) for p in description if p.get_text(strip=True) != '')\n",
    "\n",
    "    print(\"\\n\\n\")\n",
    "    print(headlines)\n",
    "    print(cleaned_description)\n",
    "    df.loc[len(df)] = [headlines, cleaned_description]\n",
    "    \n",
    "    \n",
    "    \n",
    "    \n",
    "    \n",
    "    \n",
    "    \n",
    "    \n",
    " \n",
    "    \n",
    "    \n",
    "    \n",
    "    \n",
    "# df = pd.DataFrame(news)"
   ]
  },
  {
   "cell_type": "code",
   "execution_count": null,
   "id": "00c5100b",
   "metadata": {},
   "outputs": [],
   "source": [
    "df"
   ]
  },
  {
   "cell_type": "code",
   "execution_count": null,
   "id": "65c40a6b",
   "metadata": {},
   "outputs": [],
   "source": [
    "today = date.today().strftime(\"%Y-%m-%d\") \n",
    "today"
   ]
  },
  {
   "cell_type": "code",
   "execution_count": null,
   "id": "36bbf42e",
   "metadata": {},
   "outputs": [],
   "source": [
    "foldername='/var/home/ramrshrcg/Desktop/Python/scrapping/csv'"
   ]
  },
  {
   "cell_type": "code",
   "execution_count": null,
   "id": "3f4bd4a7",
   "metadata": {},
   "outputs": [],
   "source": [
    "# df.to_csv(f\"{foldername}/{today}_ekantipur_news.csv\", index=False)"
   ]
  },
  {
   "cell_type": "code",
   "execution_count": null,
   "id": "e34681d2",
   "metadata": {},
   "outputs": [],
   "source": [
    "\n",
    "file_path = f\"{foldername}/{today}_ekantipur_news.csv\"\n",
    "\n",
    "\n",
    "if os.path.exists(file_path):\n",
    "    df.to_csv(file_path, mode='a', index=False, header=False)\n",
    "else:\n",
    "    df.to_csv(file_path, index=False)\n"
   ]
  },
  {
   "cell_type": "code",
   "execution_count": null,
   "id": "f70ac8b7",
   "metadata": {},
   "outputs": [],
   "source": []
  }
 ],
 "metadata": {
  "kernelspec": {
   "display_name": ".venv",
   "language": "python",
   "name": "python3"
  },
  "language_info": {
   "codemirror_mode": {
    "name": "ipython",
    "version": 3
   },
   "file_extension": ".py",
   "mimetype": "text/x-python",
   "name": "python",
   "nbconvert_exporter": "python",
   "pygments_lexer": "ipython3",
   "version": "3.13.3"
  }
 },
 "nbformat": 4,
 "nbformat_minor": 5
}
