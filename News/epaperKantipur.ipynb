{
 "cells": [
  {
   "cell_type": "code",
   "execution_count": null,
   "id": "03d9c6a1",
   "metadata": {},
   "outputs": [],
   "source": [
    "import requests\n",
    "from bs4 import BeautifulSoup\n",
    "from datetime import date\n",
    "import pandas as pd\n",
    "import re\n",
    "import os\n",
    "import calendar\n",
    "import selenium\n",
    "import gc\n"
   ]
  },
  {
   "cell_type": "code",
   "execution_count": null,
   "id": "dadc5a5a",
   "metadata": {},
   "outputs": [],
   "source": [
    "# url='https://epaper.ekantipur.com/kantipur/2020-01-01'"
   ]
  },
  {
   "cell_type": "code",
   "execution_count": null,
   "id": "68421f82",
   "metadata": {},
   "outputs": [],
   "source": [
    "# response = requests.get(url)\n",
    "# soup = BeautifulSoup(response.content, 'html.parser')\n",
    "# print(soup.prettify())"
   ]
  },
  {
   "cell_type": "code",
   "execution_count": null,
   "id": "99a020e3",
   "metadata": {},
   "outputs": [],
   "source": [
    "# content =soup.find('div', id='content')\n",
    "# # print(top_menu.prettify())\n",
    "# sections= content.find_all('section')\n",
    "# print(len(sections))"
   ]
  },
  {
   "cell_type": "code",
   "execution_count": null,
   "id": "71d2e975",
   "metadata": {},
   "outputs": [],
   "source": [
    "# page1=sections[0]\n",
    "# # page1_contnet= page1.find_all('li')\n",
    "# print((page1.prettify()))"
   ]
  },
  {
   "cell_type": "code",
   "execution_count": null,
   "id": "0c0147f4",
   "metadata": {},
   "outputs": [],
   "source": [
    "# #in every section there is a article\n",
    "# articles=page1.find_all('article')\n",
    "# print(len(articles))"
   ]
  },
  {
   "cell_type": "code",
   "execution_count": null,
   "id": "d514be6d",
   "metadata": {},
   "outputs": [],
   "source": [
    "def clean_text(text):\n",
    "    \"\"\"Clean and normalize text content\"\"\"\n",
    "    if not text:\n",
    "        return \"\"\n",
    "    \n",
    "    # Remove unwanted characters but keep Nepali text\n",
    "    text = re.sub(r'[^\\u0900-\\u097F\\s\\w\\.,!?;:()\\-\\'\\\"]+', '', text)\n",
    "    text = text.replace('\\u2013', ' ')  # Replace en-dash\n",
    "    text = text.replace('\\u2014', ' ')  # Replace em-dash\n",
    "    text = re.sub(r'\\s+', ' ', text)    # Replace multiple spaces with single space\n",
    "    text = re.sub(r'[a-zA-Z0-9/.-]', '', text)\n",
    "    \n",
    "    return text.strip()"
   ]
  },
  {
   "cell_type": "code",
   "execution_count": null,
   "id": "7833164a",
   "metadata": {},
   "outputs": [],
   "source": [
    "def add_to_df( headline, paragraph):\n",
    "    \"\"\"Add article data to DataFrame\"\"\"\n",
    "    data={\n",
    "        'शीर्षक': [],\n",
    "        'विवरण': [],\n",
    "    }\n",
    "    df = pd.DataFrame(data)\n",
    "    # title = clean_text(article.find('h2').get_text(strip=True))\n",
    "    # content = clean_text(article.find('div', class_='content').get_text(strip=True))\n",
    "    \n",
    "    if headline and paragraph:\n",
    "        df.loc[len(df)] = [headline, paragraph]\n",
    "    \n",
    "    return df  \n"
   ]
  },
  {
   "cell_type": "code",
   "execution_count": null,
   "id": "120302c5",
   "metadata": {},
   "outputs": [],
   "source": [
    "def save_to_csv(df, date_str):\n",
    "\n",
    "    date = date_str.split('-')    \n",
    "    \n",
    "    foldername=f'/var/home/ramrshrcg/Desktop/Python/scrapping/News_csv/epaper/{date[0]}/{date[1]}'\n",
    "    file_path = f\"{foldername}/ekantipur-{date[2]}.csv\"\n",
    "    \n",
    "    if not os.path.exists(foldername):\n",
    "        os.makedirs(foldername)\n",
    "\n",
    "    if os.path.exists(file_path):\n",
    "        df.to_csv(file_path, mode='a', index=False, header=False)\n",
    "    else:\n",
    "        df.to_csv(file_path, index=False)"
   ]
  },
  {
   "cell_type": "code",
   "execution_count": null,
   "id": "328189b5",
   "metadata": {},
   "outputs": [],
   "source": [
    "\n",
    "def date(year, month):\n",
    "    for day in calendar.monthcalendar(year, month):\n",
    "        date_str=[]\n",
    "        for d in day:\n",
    "            if d != 0:  # Skip days that are not in the month\n",
    "                date_stri = f\"{year}-{month:02d}-{d:02d}\"\n",
    "                date_str.append(date_stri)\n",
    "            print(date_str)\n",
    "            return date_str\n",
    "            "
   ]
  },
  {
   "cell_type": "code",
   "execution_count": null,
   "id": "a19c3103",
   "metadata": {},
   "outputs": [],
   "source": [
    "def process_url(url,date_str):\n",
    "    \n",
    "    try:\n",
    "        try:\n",
    "            response = requests.get(url)\n",
    "            soup = BeautifulSoup(response.content, 'html.parser')\n",
    "            # print(soup.prettify()) \n",
    "        except Exception as e:\n",
    "            print(f\"Error fetching URL {url}: {e}\")\n",
    "            return\n",
    "        try:\n",
    "            content =soup.find('div', id='content')\n",
    "            # print(top_menu.prettify())\n",
    "            sections= content.find_all('section')\n",
    "            # print(len(sections))\n",
    "            \n",
    "        except Exception as e:\n",
    "            print(f\"Error parsing content from URL {url}: {e}\")\n",
    "            return\n",
    "\n",
    "        if not sections:\n",
    "            print(f\"No sections found in URL {url}\")\n",
    "            return\n",
    "        \n",
    "        for section in sections: \n",
    "            articles=section.find_all('article')\n",
    "            # print(len(articles))\n",
    "           \n",
    "            if not articles:\n",
    "                print(f\"No articles found in section of URL {url}\")\n",
    "                continue\n",
    "            \n",
    "            for article in articles:\n",
    "                \n",
    "                category = article.find('div', class_='category').text.strip()\n",
    "                cleaned_category = clean_text(category)\n",
    "                # print(cleaned_category)\n",
    "                \n",
    "                headline = article.find('h1').text.strip()\n",
    "                cleaned_headline = clean_text(headline)\n",
    "                print(cleaned_headline)\n",
    "                \n",
    "                # for description \n",
    "                description_div= article.find('div', class_='description')\n",
    "                # print(description_div)\n",
    "                descriptions= description_div.find_all('p')\n",
    "                # print(len(descriptions))\n",
    "                \n",
    "                for description in descriptions:\n",
    "                    #clean description text\n",
    "                    description_text = description.text.strip()\n",
    "                    \n",
    "                    cleaned_description=clean_text(description_text)\n",
    "                    \n",
    "                    print(cleaned_description)\n",
    "                    \n",
    "                # return \n",
    "                df= add_to_df(cleaned_headline, cleaned_description)\n",
    "                    # print(df)\n",
    "                save_to_csv(df, date_str)\n",
    "                \n",
    "        del response\n",
    "        del soup\n",
    "        gc.collect() \n",
    "    except Exception as e:\n",
    "        print(f\"Error processing URL {url}: {e}\")\n",
    "                \n",
    "    "
   ]
  },
  {
   "cell_type": "code",
   "execution_count": null,
   "id": "54b287b8",
   "metadata": {},
   "outputs": [],
   "source": [
    "# date_stri='2025-06-26'\n",
    "# url=f'https://epaper.ekantipur.com/kantipur/{date_stri}'\n",
    "# process_url(url, date_stri)\n",
    "\n",
    "\n"
   ]
  },
  {
   "cell_type": "code",
   "execution_count": null,
   "id": "fed76db2",
   "metadata": {},
   "outputs": [],
   "source": [
    "from time import  sleep\n",
    "\n",
    "\n",
    "year =2016\n",
    "# month=3\n",
    "\n",
    "def process_month(smonth, emonth):\n",
    "    for month in range(smonth,emonth):\n",
    "        for day in calendar.monthcalendar(year, month):\n",
    "            for day in day:\n",
    "                if day != 0:\n",
    "                    date_stri = f\"{year}-{month:02d}-{day:02d}\"\n",
    "                    print(date_stri)\n",
    "                    url=f'https://epaper.ekantipur.com/kantipur/{date_stri}'\n",
    "                    process_url(url, date_stri)\n",
    "                    \n",
    "                    \n",
    "        # wait for 20 sec before next request\n",
    "        sleep(20)"
   ]
  },
  {
   "cell_type": "code",
   "execution_count": null,
   "id": "a1cbeeca",
   "metadata": {},
   "outputs": [],
   "source": [
    "process_month(1,3)\n"
   ]
  },
  {
   "cell_type": "code",
   "execution_count": null,
   "id": "c20fc7df",
   "metadata": {},
   "outputs": [],
   "source": [
    "process_month(3,5)\n"
   ]
  },
  {
   "cell_type": "code",
   "execution_count": null,
   "id": "188ac0c1",
   "metadata": {},
   "outputs": [],
   "source": [
    "process_month(5,7)\n"
   ]
  },
  {
   "cell_type": "code",
   "execution_count": null,
   "id": "b527cd22",
   "metadata": {},
   "outputs": [],
   "source": [
    "process_month(7,9)"
   ]
  },
  {
   "cell_type": "code",
   "execution_count": null,
   "id": "163557bf",
   "metadata": {},
   "outputs": [],
   "source": [
    "process_month(9,11)\n"
   ]
  },
  {
   "cell_type": "code",
   "execution_count": null,
   "id": "e93cccdb",
   "metadata": {},
   "outputs": [],
   "source": [
    "process_month(11,13)  # Uncomment to process November and December\n"
   ]
  },
  {
   "cell_type": "code",
   "execution_count": null,
   "id": "f54ff488",
   "metadata": {},
   "outputs": [],
   "source": [
    "\n",
    "import calendar\n",
    "print(calendar.calendar(2019))\n"
   ]
  },
  {
   "cell_type": "code",
   "execution_count": null,
   "id": "fc419f22",
   "metadata": {},
   "outputs": [],
   "source": [
    "srt='2002-02-03'\n",
    "year = srt.split('-')\n",
    "print(year[0])"
   ]
  },
  {
   "cell_type": "code",
   "execution_count": null,
   "id": "c2e0a811",
   "metadata": {},
   "outputs": [],
   "source": [
    "for month in range(1,13):\n",
    "    print(month)"
   ]
  },
  {
   "cell_type": "code",
   "execution_count": null,
   "id": "a0a12f3b",
   "metadata": {},
   "outputs": [],
   "source": []
  }
 ],
 "metadata": {
  "kernelspec": {
   "display_name": ".venv",
   "language": "python",
   "name": "python3"
  },
  "language_info": {
   "codemirror_mode": {
    "name": "ipython",
    "version": 3
   },
   "file_extension": ".py",
   "mimetype": "text/x-python",
   "name": "python",
   "nbconvert_exporter": "python",
   "pygments_lexer": "ipython3",
   "version": "3.13.3"
  }
 },
 "nbformat": 4,
 "nbformat_minor": 5
}
