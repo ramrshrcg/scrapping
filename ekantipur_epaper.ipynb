{
 "cells": [
  {
   "cell_type": "code",
   "execution_count": null,
   "id": "8fb74c4c",
   "metadata": {},
   "outputs": [],
   "source": [
    "import requests\n",
    "from bs4 import BeautifulSoup\n",
    "import re\n",
    "import logging\n",
    "from typing import List, Dict, Optional\n",
    "import time\n",
    "from datetime import datetime, timedelta\n",
    "import calendar\n"
   ]
  },
  {
   "cell_type": "code",
   "execution_count": null,
   "id": "cf5ce043",
   "metadata": {},
   "outputs": [],
   "source": [
    "from selenium import webdriver\n",
    "from selenium.webdriver.common.keys import Keys\n",
    "from selenium.webdriver.common.by import By\n",
    "from selenium.webdriver.support.ui import WebDriverWait\n",
    "from selenium.webdriver.support import expected_conditions as EC\n",
    "\n",
    "\n",
    "\n",
    "url='https://epaper.ekantipur.com/kantipur/2025-06-26'"
   ]
  },
  {
   "cell_type": "code",
   "execution_count": null,
   "id": "fc979cdf",
   "metadata": {},
   "outputs": [],
   "source": [
    "def login(driver, username, password):\n",
    "    driver.get(url)\n",
    "    \n",
    "    # Wait for login form\n",
    "    wait = WebDriverWait(driver, 10)\n",
    "    \n",
    "    # Fill credentials\n",
    "    username_field = wait.until(EC.presence_of_element_located((By.ID, \"txtEmail\")))\n",
    "    password_field = driver.find_element(By.NAME, \"txtPassword\")\n",
    "    \n",
    "    username_field.send_keys(username)\n",
    "    password_field.send_keys(password)\n",
    "    \n",
    "    # Submit\n",
    "    login_button = driver.find_element(By.ID, \"login-btn\")\n",
    "    login_button.click()\n",
    "    \n",
    "    # Wait for login success (check for dashboard or profile page)\n",
    "    wait.until(EC.url_contains(\"dashboard\"))  # or whatever indicates success"
   ]
  },
  {
   "cell_type": "code",
   "execution_count": null,
   "id": "326d656f",
   "metadata": {},
   "outputs": [],
   "source": [
    "driver = webdriver.Chrome()\n",
    "driver.get(url)\n",
    "login(driver, \"ramrshrcg@gmail.com\", \"meroname123\")"
   ]
  },
  {
   "cell_type": "code",
   "execution_count": null,
   "id": "b729ec42",
   "metadata": {},
   "outputs": [],
   "source": [
    "assert \"Python\" in driver.title\n",
    "elem = driver.find_element(By.NAME, \"q\")\n",
    "elem.clear()\n",
    "elem.send_keys(\"pycon\")\n",
    "elem.send_keys(Keys.RETURN)\n",
    "assert \"No results found.\" not in driver.page_source"
   ]
  },
  {
   "cell_type": "code",
   "execution_count": null,
   "id": "97f2c441",
   "metadata": {},
   "outputs": [],
   "source": [
    "driver.close()\n"
   ]
  }
 ],
 "metadata": {
  "kernelspec": {
   "display_name": ".venv",
   "language": "python",
   "name": "python3"
  },
  "language_info": {
   "codemirror_mode": {
    "name": "ipython",
    "version": 3
   },
   "file_extension": ".py",
   "mimetype": "text/x-python",
   "name": "python",
   "nbconvert_exporter": "python",
   "pygments_lexer": "ipython3",
   "version": "3.13.3"
  }
 },
 "nbformat": 4,
 "nbformat_minor": 5
}
